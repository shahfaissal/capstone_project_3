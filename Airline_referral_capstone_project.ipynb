{
  "cells": [
    {
      "cell_type": "markdown",
      "metadata": {
        "id": "view-in-github",
        "colab_type": "text"
      },
      "source": [
        "<a href=\"https://colab.research.google.com/github/shahfaissal/capstone_project_3/blob/main/Airline_referral_capstone_project.ipynb\" target=\"_parent\"><img src=\"https://colab.research.google.com/assets/colab-badge.svg\" alt=\"Open In Colab\"/></a>"
      ]
    },
    {
      "cell_type": "markdown",
      "metadata": {
        "id": "Xym-lXgIEu_T"
      },
      "source": [
        "##**Data includes airline reviews from 2006 to 2019 for popular airlines around the world with multiple choice and free text questions. Data is scraped in Spring 2019. The main objective is to predict whether passengers will refer the airline to their friends.**"
      ]
    },
    {
      "cell_type": "markdown",
      "metadata": {
        "id": "2EV5WN49E5-F"
      },
      "source": [
        "##**Data descriptions:**\n",
        "\n",
        "\n",
        "*   **airline**: Name of the airline.\n",
        "\n",
        "*   **overall**: Overall point is given to the trip between 1 to 10.\n",
        "\n",
        "\n",
        "*   **author**: Author of the trip\n",
        "\n",
        "\n",
        "*   **reviewdate**: Date of the Review customer review: Review of the customers in free text format\n",
        "\n",
        "\n",
        "\n",
        "*  **aircraft**: Type of the aircraft\n",
        "\n",
        "*   **travellertype**: Type of traveler (e.g. business, leisure)\n",
        "\n",
        "\n",
        "*   **cabin**: Cabin at the flight date flown: Flight date\n",
        "\n",
        "*  **seatcomfort**: Rated between 1-5\n",
        "\n",
        "\n",
        "*   **cabin service**: Rated between 1-5\n",
        "\n",
        "*   **foodbev**: Rated between 1-5 entertainment: Rated between 1-5\n",
        "\n",
        "\n",
        "*   **groundservice**: Rated between 1-5\n",
        "\n",
        "*   **valueformoney**: Rated between 1-5\n",
        "\n",
        "\n",
        "\n"
      ]
    },
    {
      "cell_type": "code",
      "source": [
        "# Importing necessary libraries.\n",
        "import pandas as pd \n",
        "import numpy as np\n",
        "from datetime import datetime as dt \n",
        "import matplotlib.pyplot as plt\n",
        "import seaborn as sns\n",
        "%matplotlib inline\n",
        "\n",
        "\n",
        "\n",
        "from sklearn.linear_model import LogisticRegression\n",
        "\n",
        "from sklearn.ensemble import RandomForestClassifier\n",
        "from sklearn.tree import DecisionTreeClassifier\n",
        "from sklearn.neighbors import KNeighborsClassifier\n",
        "from sklearn.preprocessing import LabelEncoder\n",
        "import lightgbm\n",
        "\n",
        "\n",
        "from sklearn import model_selection\n",
        "from sklearn.model_selection import train_test_split\n",
        "from sklearn.model_selection import GridSearchCV\n",
        "from sklearn.svm import SVC\n",
        "import xgboost as xgb "
      ],
      "metadata": {
        "id": "qE3QTLyaI9ac"
      },
      "execution_count": 1,
      "outputs": []
    },
    {
      "cell_type": "code",
      "source": [
        "# Importing  metrics for evaluation for our models\n",
        "from sklearn import metrics\n",
        "from sklearn.metrics import confusion_matrix\n",
        "from sklearn.metrics import accuracy_score\n",
        "from sklearn.metrics import precision_score\n",
        "from sklearn.metrics import recall_score\n",
        "from sklearn.metrics import f1_score\n",
        "from sklearn.metrics import roc_auc_score\n",
        "from sklearn.metrics import roc_curve\n",
        "from sklearn.metrics import auc\n",
        "\n",
        "\n",
        "import warnings\n",
        "warnings.filterwarnings('ignore')"
      ],
      "metadata": {
        "id": "C-_Y7Fm2JOzU"
      },
      "execution_count": 2,
      "outputs": []
    },
    {
      "cell_type": "code",
      "source": [
        "# Mounting the google drive\n",
        "from google.colab import drive\n",
        "drive.mount('/content/drive')"
      ],
      "metadata": {
        "colab": {
          "base_uri": "https://localhost:8080/"
        },
        "id": "BSWCyN_1JR8M",
        "outputId": "68f752ec-0f09-4e6f-f9e1-f0e8b7ee2ae4"
      },
      "execution_count": 3,
      "outputs": [
        {
          "output_type": "stream",
          "name": "stdout",
          "text": [
            "Mounted at /content/drive\n"
          ]
        }
      ]
    },
    {
      "cell_type": "code",
      "source": [
        "# Reading the xlsx file from the drive\n",
        "df = pd.read_excel('/content/drive/MyDrive/airline  referral capstone project/Data_airline_reviews.xlsx')"
      ],
      "metadata": {
        "id": "fK40liceJWkV"
      },
      "execution_count": 4,
      "outputs": []
    },
    {
      "cell_type": "code",
      "source": [
        "df.head(15)"
      ],
      "metadata": {
        "colab": {
          "base_uri": "https://localhost:8080/",
          "height": 827
        },
        "id": "9vZrzYCAJitU",
        "outputId": "343dfec5-d948-4a9b-ff98-1690167552d4"
      },
      "execution_count": 5,
      "outputs": [
        {
          "output_type": "execute_result",
          "data": {
            "text/plain": [
              "             airline  overall               author   review_date  \\\n",
              "0                NaN      NaN                  NaN           NaN   \n",
              "1   Turkish Airlines      7.0  Christopher Hackley  8th May 2019   \n",
              "2                NaN      NaN                  NaN           NaN   \n",
              "3   Turkish Airlines      2.0        Adriana Pisoi  7th May 2019   \n",
              "4                NaN      NaN                  NaN           NaN   \n",
              "5   Turkish Airlines      3.0            M Galerko  7th May 2019   \n",
              "6                NaN      NaN                  NaN           NaN   \n",
              "7   Turkish Airlines     10.0          Zeshan Shah  6th May 2019   \n",
              "8                NaN      NaN                  NaN           NaN   \n",
              "9   Turkish Airlines      1.0           Pooja Jain  6th May 2019   \n",
              "10               NaN      NaN                  NaN           NaN   \n",
              "11  Turkish Airlines      2.0               M Shaw  5th May 2019   \n",
              "12               NaN      NaN                  NaN           NaN   \n",
              "13  Turkish Airlines      1.0             J Dalwen  2nd May 2019   \n",
              "14               NaN      NaN                  NaN           NaN   \n",
              "\n",
              "                                      customer_review aircraft  \\\n",
              "0                                                 NaN      NaN   \n",
              "1   âœ… Trip Verified | London to Izmir via Istanb...      NaN   \n",
              "2                                                 NaN      NaN   \n",
              "3   âœ… Trip Verified | Istanbul to Bucharest. We ...      NaN   \n",
              "4                                                 NaN      NaN   \n",
              "5   âœ… Trip Verified | Rome to Prishtina via Ista...      NaN   \n",
              "6                                                 NaN      NaN   \n",
              "7   âœ… Trip Verified | Flew on Turkish Airlines I...     A330   \n",
              "8                                                 NaN      NaN   \n",
              "9   âœ… Trip Verified | Mumbai to Dublin via Istan...      NaN   \n",
              "10                                                NaN      NaN   \n",
              "11  âœ… Trip Verified | Istanbul to Budapest via D...      NaN   \n",
              "12                                                NaN      NaN   \n",
              "13  âœ… Trip Verified | Istanbul to Algiers, plann...      NaN   \n",
              "14                                                NaN      NaN   \n",
              "\n",
              "    traveller_type           cabin                            route  \\\n",
              "0              NaN             NaN                              NaN   \n",
              "1         Business   Economy Class     London to Izmir via Istanbul   \n",
              "2              NaN             NaN                              NaN   \n",
              "3   Family Leisure   Economy Class            Istanbul to Bucharest   \n",
              "4              NaN             NaN                              NaN   \n",
              "5         Business   Economy Class   Rome to Prishtina via Istanbul   \n",
              "6              NaN             NaN                              NaN   \n",
              "7     Solo Leisure   Economy Class     Washington Dulles to Karachi   \n",
              "8              NaN             NaN                              NaN   \n",
              "9     Solo Leisure   Economy Class    Mumbai to Dublin via Istanbul   \n",
              "10             NaN             NaN                              NaN   \n",
              "11  Couple Leisure   Economy Class  Istanbul to Budapest via Dublin   \n",
              "12             NaN             NaN                              NaN   \n",
              "13        Business  Business Class              Istanbul to Algiers   \n",
              "14             NaN             NaN                              NaN   \n",
              "\n",
              "             date_flown  seat_comfort  cabin_service  food_bev  entertainment  \\\n",
              "0                   NaN           NaN            NaN       NaN            NaN   \n",
              "1   2019-05-01 00:00:00           4.0            5.0       4.0            4.0   \n",
              "2                   NaN           NaN            NaN       NaN            NaN   \n",
              "3   2019-05-01 00:00:00           4.0            1.0       1.0            1.0   \n",
              "4                   NaN           NaN            NaN       NaN            NaN   \n",
              "5   2019-05-01 00:00:00           1.0            4.0       1.0            3.0   \n",
              "6                   NaN           NaN            NaN       NaN            NaN   \n",
              "7            April 2019           4.0            5.0       5.0            5.0   \n",
              "8                   NaN           NaN            NaN       NaN            NaN   \n",
              "9   2019-05-01 00:00:00           1.0            1.0       1.0            1.0   \n",
              "10                  NaN           NaN            NaN       NaN            NaN   \n",
              "11  2019-05-01 00:00:00           3.0            3.0       5.0            3.0   \n",
              "12                  NaN           NaN            NaN       NaN            NaN   \n",
              "13           April 2019           2.0            2.0       NaN            3.0   \n",
              "14                  NaN           NaN            NaN       NaN            NaN   \n",
              "\n",
              "    ground_service  value_for_money recommended  \n",
              "0              NaN              NaN         NaN  \n",
              "1              2.0              4.0         yes  \n",
              "2              NaN              NaN         NaN  \n",
              "3              1.0              1.0          no  \n",
              "4              NaN              NaN         NaN  \n",
              "5              1.0              2.0          no  \n",
              "6              NaN              NaN         NaN  \n",
              "7              5.0              5.0         yes  \n",
              "8              NaN              NaN         NaN  \n",
              "9              1.0              1.0          no  \n",
              "10             NaN              NaN         NaN  \n",
              "11             1.0              1.0          no  \n",
              "12             NaN              NaN         NaN  \n",
              "13             1.0              1.0          no  \n",
              "14             NaN              NaN         NaN  "
            ],
            "text/html": [
              "\n",
              "  <div id=\"df-83d56986-478f-4c5f-9ca6-aea5169b3986\">\n",
              "    <div class=\"colab-df-container\">\n",
              "      <div>\n",
              "<style scoped>\n",
              "    .dataframe tbody tr th:only-of-type {\n",
              "        vertical-align: middle;\n",
              "    }\n",
              "\n",
              "    .dataframe tbody tr th {\n",
              "        vertical-align: top;\n",
              "    }\n",
              "\n",
              "    .dataframe thead th {\n",
              "        text-align: right;\n",
              "    }\n",
              "</style>\n",
              "<table border=\"1\" class=\"dataframe\">\n",
              "  <thead>\n",
              "    <tr style=\"text-align: right;\">\n",
              "      <th></th>\n",
              "      <th>airline</th>\n",
              "      <th>overall</th>\n",
              "      <th>author</th>\n",
              "      <th>review_date</th>\n",
              "      <th>customer_review</th>\n",
              "      <th>aircraft</th>\n",
              "      <th>traveller_type</th>\n",
              "      <th>cabin</th>\n",
              "      <th>route</th>\n",
              "      <th>date_flown</th>\n",
              "      <th>seat_comfort</th>\n",
              "      <th>cabin_service</th>\n",
              "      <th>food_bev</th>\n",
              "      <th>entertainment</th>\n",
              "      <th>ground_service</th>\n",
              "      <th>value_for_money</th>\n",
              "      <th>recommended</th>\n",
              "    </tr>\n",
              "  </thead>\n",
              "  <tbody>\n",
              "    <tr>\n",
              "      <th>0</th>\n",
              "      <td>NaN</td>\n",
              "      <td>NaN</td>\n",
              "      <td>NaN</td>\n",
              "      <td>NaN</td>\n",
              "      <td>NaN</td>\n",
              "      <td>NaN</td>\n",
              "      <td>NaN</td>\n",
              "      <td>NaN</td>\n",
              "      <td>NaN</td>\n",
              "      <td>NaN</td>\n",
              "      <td>NaN</td>\n",
              "      <td>NaN</td>\n",
              "      <td>NaN</td>\n",
              "      <td>NaN</td>\n",
              "      <td>NaN</td>\n",
              "      <td>NaN</td>\n",
              "      <td>NaN</td>\n",
              "    </tr>\n",
              "    <tr>\n",
              "      <th>1</th>\n",
              "      <td>Turkish Airlines</td>\n",
              "      <td>7.0</td>\n",
              "      <td>Christopher Hackley</td>\n",
              "      <td>8th May 2019</td>\n",
              "      <td>âœ… Trip Verified | London to Izmir via Istanb...</td>\n",
              "      <td>NaN</td>\n",
              "      <td>Business</td>\n",
              "      <td>Economy Class</td>\n",
              "      <td>London to Izmir via Istanbul</td>\n",
              "      <td>2019-05-01 00:00:00</td>\n",
              "      <td>4.0</td>\n",
              "      <td>5.0</td>\n",
              "      <td>4.0</td>\n",
              "      <td>4.0</td>\n",
              "      <td>2.0</td>\n",
              "      <td>4.0</td>\n",
              "      <td>yes</td>\n",
              "    </tr>\n",
              "    <tr>\n",
              "      <th>2</th>\n",
              "      <td>NaN</td>\n",
              "      <td>NaN</td>\n",
              "      <td>NaN</td>\n",
              "      <td>NaN</td>\n",
              "      <td>NaN</td>\n",
              "      <td>NaN</td>\n",
              "      <td>NaN</td>\n",
              "      <td>NaN</td>\n",
              "      <td>NaN</td>\n",
              "      <td>NaN</td>\n",
              "      <td>NaN</td>\n",
              "      <td>NaN</td>\n",
              "      <td>NaN</td>\n",
              "      <td>NaN</td>\n",
              "      <td>NaN</td>\n",
              "      <td>NaN</td>\n",
              "      <td>NaN</td>\n",
              "    </tr>\n",
              "    <tr>\n",
              "      <th>3</th>\n",
              "      <td>Turkish Airlines</td>\n",
              "      <td>2.0</td>\n",
              "      <td>Adriana Pisoi</td>\n",
              "      <td>7th May 2019</td>\n",
              "      <td>âœ… Trip Verified | Istanbul to Bucharest. We ...</td>\n",
              "      <td>NaN</td>\n",
              "      <td>Family Leisure</td>\n",
              "      <td>Economy Class</td>\n",
              "      <td>Istanbul to Bucharest</td>\n",
              "      <td>2019-05-01 00:00:00</td>\n",
              "      <td>4.0</td>\n",
              "      <td>1.0</td>\n",
              "      <td>1.0</td>\n",
              "      <td>1.0</td>\n",
              "      <td>1.0</td>\n",
              "      <td>1.0</td>\n",
              "      <td>no</td>\n",
              "    </tr>\n",
              "    <tr>\n",
              "      <th>4</th>\n",
              "      <td>NaN</td>\n",
              "      <td>NaN</td>\n",
              "      <td>NaN</td>\n",
              "      <td>NaN</td>\n",
              "      <td>NaN</td>\n",
              "      <td>NaN</td>\n",
              "      <td>NaN</td>\n",
              "      <td>NaN</td>\n",
              "      <td>NaN</td>\n",
              "      <td>NaN</td>\n",
              "      <td>NaN</td>\n",
              "      <td>NaN</td>\n",
              "      <td>NaN</td>\n",
              "      <td>NaN</td>\n",
              "      <td>NaN</td>\n",
              "      <td>NaN</td>\n",
              "      <td>NaN</td>\n",
              "    </tr>\n",
              "    <tr>\n",
              "      <th>5</th>\n",
              "      <td>Turkish Airlines</td>\n",
              "      <td>3.0</td>\n",
              "      <td>M Galerko</td>\n",
              "      <td>7th May 2019</td>\n",
              "      <td>âœ… Trip Verified | Rome to Prishtina via Ista...</td>\n",
              "      <td>NaN</td>\n",
              "      <td>Business</td>\n",
              "      <td>Economy Class</td>\n",
              "      <td>Rome to Prishtina via Istanbul</td>\n",
              "      <td>2019-05-01 00:00:00</td>\n",
              "      <td>1.0</td>\n",
              "      <td>4.0</td>\n",
              "      <td>1.0</td>\n",
              "      <td>3.0</td>\n",
              "      <td>1.0</td>\n",
              "      <td>2.0</td>\n",
              "      <td>no</td>\n",
              "    </tr>\n",
              "    <tr>\n",
              "      <th>6</th>\n",
              "      <td>NaN</td>\n",
              "      <td>NaN</td>\n",
              "      <td>NaN</td>\n",
              "      <td>NaN</td>\n",
              "      <td>NaN</td>\n",
              "      <td>NaN</td>\n",
              "      <td>NaN</td>\n",
              "      <td>NaN</td>\n",
              "      <td>NaN</td>\n",
              "      <td>NaN</td>\n",
              "      <td>NaN</td>\n",
              "      <td>NaN</td>\n",
              "      <td>NaN</td>\n",
              "      <td>NaN</td>\n",
              "      <td>NaN</td>\n",
              "      <td>NaN</td>\n",
              "      <td>NaN</td>\n",
              "    </tr>\n",
              "    <tr>\n",
              "      <th>7</th>\n",
              "      <td>Turkish Airlines</td>\n",
              "      <td>10.0</td>\n",
              "      <td>Zeshan Shah</td>\n",
              "      <td>6th May 2019</td>\n",
              "      <td>âœ… Trip Verified | Flew on Turkish Airlines I...</td>\n",
              "      <td>A330</td>\n",
              "      <td>Solo Leisure</td>\n",
              "      <td>Economy Class</td>\n",
              "      <td>Washington Dulles to Karachi</td>\n",
              "      <td>April 2019</td>\n",
              "      <td>4.0</td>\n",
              "      <td>5.0</td>\n",
              "      <td>5.0</td>\n",
              "      <td>5.0</td>\n",
              "      <td>5.0</td>\n",
              "      <td>5.0</td>\n",
              "      <td>yes</td>\n",
              "    </tr>\n",
              "    <tr>\n",
              "      <th>8</th>\n",
              "      <td>NaN</td>\n",
              "      <td>NaN</td>\n",
              "      <td>NaN</td>\n",
              "      <td>NaN</td>\n",
              "      <td>NaN</td>\n",
              "      <td>NaN</td>\n",
              "      <td>NaN</td>\n",
              "      <td>NaN</td>\n",
              "      <td>NaN</td>\n",
              "      <td>NaN</td>\n",
              "      <td>NaN</td>\n",
              "      <td>NaN</td>\n",
              "      <td>NaN</td>\n",
              "      <td>NaN</td>\n",
              "      <td>NaN</td>\n",
              "      <td>NaN</td>\n",
              "      <td>NaN</td>\n",
              "    </tr>\n",
              "    <tr>\n",
              "      <th>9</th>\n",
              "      <td>Turkish Airlines</td>\n",
              "      <td>1.0</td>\n",
              "      <td>Pooja Jain</td>\n",
              "      <td>6th May 2019</td>\n",
              "      <td>âœ… Trip Verified | Mumbai to Dublin via Istan...</td>\n",
              "      <td>NaN</td>\n",
              "      <td>Solo Leisure</td>\n",
              "      <td>Economy Class</td>\n",
              "      <td>Mumbai to Dublin via Istanbul</td>\n",
              "      <td>2019-05-01 00:00:00</td>\n",
              "      <td>1.0</td>\n",
              "      <td>1.0</td>\n",
              "      <td>1.0</td>\n",
              "      <td>1.0</td>\n",
              "      <td>1.0</td>\n",
              "      <td>1.0</td>\n",
              "      <td>no</td>\n",
              "    </tr>\n",
              "    <tr>\n",
              "      <th>10</th>\n",
              "      <td>NaN</td>\n",
              "      <td>NaN</td>\n",
              "      <td>NaN</td>\n",
              "      <td>NaN</td>\n",
              "      <td>NaN</td>\n",
              "      <td>NaN</td>\n",
              "      <td>NaN</td>\n",
              "      <td>NaN</td>\n",
              "      <td>NaN</td>\n",
              "      <td>NaN</td>\n",
              "      <td>NaN</td>\n",
              "      <td>NaN</td>\n",
              "      <td>NaN</td>\n",
              "      <td>NaN</td>\n",
              "      <td>NaN</td>\n",
              "      <td>NaN</td>\n",
              "      <td>NaN</td>\n",
              "    </tr>\n",
              "    <tr>\n",
              "      <th>11</th>\n",
              "      <td>Turkish Airlines</td>\n",
              "      <td>2.0</td>\n",
              "      <td>M Shaw</td>\n",
              "      <td>5th May 2019</td>\n",
              "      <td>âœ… Trip Verified | Istanbul to Budapest via D...</td>\n",
              "      <td>NaN</td>\n",
              "      <td>Couple Leisure</td>\n",
              "      <td>Economy Class</td>\n",
              "      <td>Istanbul to Budapest via Dublin</td>\n",
              "      <td>2019-05-01 00:00:00</td>\n",
              "      <td>3.0</td>\n",
              "      <td>3.0</td>\n",
              "      <td>5.0</td>\n",
              "      <td>3.0</td>\n",
              "      <td>1.0</td>\n",
              "      <td>1.0</td>\n",
              "      <td>no</td>\n",
              "    </tr>\n",
              "    <tr>\n",
              "      <th>12</th>\n",
              "      <td>NaN</td>\n",
              "      <td>NaN</td>\n",
              "      <td>NaN</td>\n",
              "      <td>NaN</td>\n",
              "      <td>NaN</td>\n",
              "      <td>NaN</td>\n",
              "      <td>NaN</td>\n",
              "      <td>NaN</td>\n",
              "      <td>NaN</td>\n",
              "      <td>NaN</td>\n",
              "      <td>NaN</td>\n",
              "      <td>NaN</td>\n",
              "      <td>NaN</td>\n",
              "      <td>NaN</td>\n",
              "      <td>NaN</td>\n",
              "      <td>NaN</td>\n",
              "      <td>NaN</td>\n",
              "    </tr>\n",
              "    <tr>\n",
              "      <th>13</th>\n",
              "      <td>Turkish Airlines</td>\n",
              "      <td>1.0</td>\n",
              "      <td>J Dalwen</td>\n",
              "      <td>2nd May 2019</td>\n",
              "      <td>âœ… Trip Verified | Istanbul to Algiers, plann...</td>\n",
              "      <td>NaN</td>\n",
              "      <td>Business</td>\n",
              "      <td>Business Class</td>\n",
              "      <td>Istanbul to Algiers</td>\n",
              "      <td>April 2019</td>\n",
              "      <td>2.0</td>\n",
              "      <td>2.0</td>\n",
              "      <td>NaN</td>\n",
              "      <td>3.0</td>\n",
              "      <td>1.0</td>\n",
              "      <td>1.0</td>\n",
              "      <td>no</td>\n",
              "    </tr>\n",
              "    <tr>\n",
              "      <th>14</th>\n",
              "      <td>NaN</td>\n",
              "      <td>NaN</td>\n",
              "      <td>NaN</td>\n",
              "      <td>NaN</td>\n",
              "      <td>NaN</td>\n",
              "      <td>NaN</td>\n",
              "      <td>NaN</td>\n",
              "      <td>NaN</td>\n",
              "      <td>NaN</td>\n",
              "      <td>NaN</td>\n",
              "      <td>NaN</td>\n",
              "      <td>NaN</td>\n",
              "      <td>NaN</td>\n",
              "      <td>NaN</td>\n",
              "      <td>NaN</td>\n",
              "      <td>NaN</td>\n",
              "      <td>NaN</td>\n",
              "    </tr>\n",
              "  </tbody>\n",
              "</table>\n",
              "</div>\n",
              "      <button class=\"colab-df-convert\" onclick=\"convertToInteractive('df-83d56986-478f-4c5f-9ca6-aea5169b3986')\"\n",
              "              title=\"Convert this dataframe to an interactive table.\"\n",
              "              style=\"display:none;\">\n",
              "        \n",
              "  <svg xmlns=\"http://www.w3.org/2000/svg\" height=\"24px\"viewBox=\"0 0 24 24\"\n",
              "       width=\"24px\">\n",
              "    <path d=\"M0 0h24v24H0V0z\" fill=\"none\"/>\n",
              "    <path d=\"M18.56 5.44l.94 2.06.94-2.06 2.06-.94-2.06-.94-.94-2.06-.94 2.06-2.06.94zm-11 1L8.5 8.5l.94-2.06 2.06-.94-2.06-.94L8.5 2.5l-.94 2.06-2.06.94zm10 10l.94 2.06.94-2.06 2.06-.94-2.06-.94-.94-2.06-.94 2.06-2.06.94z\"/><path d=\"M17.41 7.96l-1.37-1.37c-.4-.4-.92-.59-1.43-.59-.52 0-1.04.2-1.43.59L10.3 9.45l-7.72 7.72c-.78.78-.78 2.05 0 2.83L4 21.41c.39.39.9.59 1.41.59.51 0 1.02-.2 1.41-.59l7.78-7.78 2.81-2.81c.8-.78.8-2.07 0-2.86zM5.41 20L4 18.59l7.72-7.72 1.47 1.35L5.41 20z\"/>\n",
              "  </svg>\n",
              "      </button>\n",
              "      \n",
              "  <style>\n",
              "    .colab-df-container {\n",
              "      display:flex;\n",
              "      flex-wrap:wrap;\n",
              "      gap: 12px;\n",
              "    }\n",
              "\n",
              "    .colab-df-convert {\n",
              "      background-color: #E8F0FE;\n",
              "      border: none;\n",
              "      border-radius: 50%;\n",
              "      cursor: pointer;\n",
              "      display: none;\n",
              "      fill: #1967D2;\n",
              "      height: 32px;\n",
              "      padding: 0 0 0 0;\n",
              "      width: 32px;\n",
              "    }\n",
              "\n",
              "    .colab-df-convert:hover {\n",
              "      background-color: #E2EBFA;\n",
              "      box-shadow: 0px 1px 2px rgba(60, 64, 67, 0.3), 0px 1px 3px 1px rgba(60, 64, 67, 0.15);\n",
              "      fill: #174EA6;\n",
              "    }\n",
              "\n",
              "    [theme=dark] .colab-df-convert {\n",
              "      background-color: #3B4455;\n",
              "      fill: #D2E3FC;\n",
              "    }\n",
              "\n",
              "    [theme=dark] .colab-df-convert:hover {\n",
              "      background-color: #434B5C;\n",
              "      box-shadow: 0px 1px 3px 1px rgba(0, 0, 0, 0.15);\n",
              "      filter: drop-shadow(0px 1px 2px rgba(0, 0, 0, 0.3));\n",
              "      fill: #FFFFFF;\n",
              "    }\n",
              "  </style>\n",
              "\n",
              "      <script>\n",
              "        const buttonEl =\n",
              "          document.querySelector('#df-83d56986-478f-4c5f-9ca6-aea5169b3986 button.colab-df-convert');\n",
              "        buttonEl.style.display =\n",
              "          google.colab.kernel.accessAllowed ? 'block' : 'none';\n",
              "\n",
              "        async function convertToInteractive(key) {\n",
              "          const element = document.querySelector('#df-83d56986-478f-4c5f-9ca6-aea5169b3986');\n",
              "          const dataTable =\n",
              "            await google.colab.kernel.invokeFunction('convertToInteractive',\n",
              "                                                     [key], {});\n",
              "          if (!dataTable) return;\n",
              "\n",
              "          const docLinkHtml = 'Like what you see? Visit the ' +\n",
              "            '<a target=\"_blank\" href=https://colab.research.google.com/notebooks/data_table.ipynb>data table notebook</a>'\n",
              "            + ' to learn more about interactive tables.';\n",
              "          element.innerHTML = '';\n",
              "          dataTable['output_type'] = 'display_data';\n",
              "          await google.colab.output.renderOutput(dataTable, element);\n",
              "          const docLink = document.createElement('div');\n",
              "          docLink.innerHTML = docLinkHtml;\n",
              "          element.appendChild(docLink);\n",
              "        }\n",
              "      </script>\n",
              "    </div>\n",
              "  </div>\n",
              "  "
            ]
          },
          "metadata": {},
          "execution_count": 5
        }
      ]
    },
    {
      "cell_type": "markdown",
      "source": [
        "# EDA(Exploratory Data Analysis)"
      ],
      "metadata": {
        "id": "OCkcXeamJs5M"
      }
    },
    {
      "cell_type": "code",
      "source": [
        "df.info()"
      ],
      "metadata": {
        "colab": {
          "base_uri": "https://localhost:8080/"
        },
        "id": "87h5Vev5Jr4M",
        "outputId": "6c010d8b-571a-4198-d964-e8801766a8e9"
      },
      "execution_count": 6,
      "outputs": [
        {
          "output_type": "stream",
          "name": "stdout",
          "text": [
            "<class 'pandas.core.frame.DataFrame'>\n",
            "RangeIndex: 131895 entries, 0 to 131894\n",
            "Data columns (total 17 columns):\n",
            " #   Column           Non-Null Count  Dtype  \n",
            "---  ------           --------------  -----  \n",
            " 0   airline          65947 non-null  object \n",
            " 1   overall          64017 non-null  float64\n",
            " 2   author           65947 non-null  object \n",
            " 3   review_date      65947 non-null  object \n",
            " 4   customer_review  65947 non-null  object \n",
            " 5   aircraft         19718 non-null  object \n",
            " 6   traveller_type   39755 non-null  object \n",
            " 7   cabin            63303 non-null  object \n",
            " 8   route            39726 non-null  object \n",
            " 9   date_flown       39633 non-null  object \n",
            " 10  seat_comfort     60681 non-null  float64\n",
            " 11  cabin_service    60715 non-null  float64\n",
            " 12  food_bev         52608 non-null  float64\n",
            " 13  entertainment    44193 non-null  float64\n",
            " 14  ground_service   39358 non-null  float64\n",
            " 15  value_for_money  63975 non-null  float64\n",
            " 16  recommended      64440 non-null  object \n",
            "dtypes: float64(7), object(10)\n",
            "memory usage: 17.1+ MB\n"
          ]
        }
      ]
    },
    {
      "cell_type": "code",
      "source": [
        "#Counting number of duplicate values\n",
        "df.duplicated().sum()"
      ],
      "metadata": {
        "colab": {
          "base_uri": "https://localhost:8080/"
        },
        "id": "CcCCXg7wJyCm",
        "outputId": "f124f28c-c46f-4010-b97e-2cd3f554a160"
      },
      "execution_count": 7,
      "outputs": [
        {
          "output_type": "execute_result",
          "data": {
            "text/plain": [
              "70711"
            ]
          },
          "metadata": {},
          "execution_count": 7
        }
      ]
    },
    {
      "cell_type": "code",
      "source": [
        "#Droping duplicate rows\n",
        "df.drop_duplicates(inplace=True)"
      ],
      "metadata": {
        "id": "6t-gJKsXJ0NE"
      },
      "execution_count": 8,
      "outputs": []
    },
    {
      "cell_type": "code",
      "source": [
        "df.info()"
      ],
      "metadata": {
        "colab": {
          "base_uri": "https://localhost:8080/"
        },
        "id": "9NPSyqJhJ3oc",
        "outputId": "484c29a4-2f68-45ad-c5e0-056a7856046d"
      },
      "execution_count": 9,
      "outputs": [
        {
          "output_type": "stream",
          "name": "stdout",
          "text": [
            "<class 'pandas.core.frame.DataFrame'>\n",
            "Int64Index: 61184 entries, 0 to 131894\n",
            "Data columns (total 17 columns):\n",
            " #   Column           Non-Null Count  Dtype  \n",
            "---  ------           --------------  -----  \n",
            " 0   airline          61183 non-null  object \n",
            " 1   overall          59401 non-null  float64\n",
            " 2   author           61183 non-null  object \n",
            " 3   review_date      61183 non-null  object \n",
            " 4   customer_review  61183 non-null  object \n",
            " 5   aircraft         18488 non-null  object \n",
            " 6   traveller_type   37540 non-null  object \n",
            " 7   cabin            58705 non-null  object \n",
            " 8   route            37513 non-null  object \n",
            " 9   date_flown       37434 non-null  object \n",
            " 10  seat_comfort     56211 non-null  float64\n",
            " 11  cabin_service    56240 non-null  float64\n",
            " 12  food_bev         48341 non-null  float64\n",
            " 13  entertainment    40230 non-null  float64\n",
            " 14  ground_service   37169 non-null  float64\n",
            " 15  value_for_money  59327 non-null  float64\n",
            " 16  recommended      59761 non-null  object \n",
            "dtypes: float64(7), object(10)\n",
            "memory usage: 8.4+ MB\n"
          ]
        }
      ]
    },
    {
      "cell_type": "markdown",
      "source": [
        "* Here we can see that there are 61184 rows and 17 columns.Also we can see that there are 7 float type feature and 10 object type feature.\n",
        "\n"
      ],
      "metadata": {
        "id": "ztCnhO9eKTP8"
      }
    },
    {
      "cell_type": "code",
      "source": [
        "# droping the rows which have all values as NaN\n",
        "df.dropna(how='all',inplace=True)"
      ],
      "metadata": {
        "id": "tV39OfWqKAyU"
      },
      "execution_count": 10,
      "outputs": []
    },
    {
      "cell_type": "code",
      "source": [
        "df"
      ],
      "metadata": {
        "colab": {
          "base_uri": "https://localhost:8080/",
          "height": 869
        },
        "id": "vtCrxmJHKg4k",
        "outputId": "be2f3f34-5c6c-422b-87f4-61a7b670ae28"
      },
      "execution_count": 11,
      "outputs": [
        {
          "output_type": "execute_result",
          "data": {
            "text/plain": [
              "                      airline  overall               author  \\\n",
              "1            Turkish Airlines      7.0  Christopher Hackley   \n",
              "3            Turkish Airlines      2.0        Adriana Pisoi   \n",
              "5            Turkish Airlines      3.0            M Galerko   \n",
              "7            Turkish Airlines     10.0          Zeshan Shah   \n",
              "9            Turkish Airlines      1.0           Pooja Jain   \n",
              "...                       ...      ...                  ...   \n",
              "131886  Ukraine International      NaN  Yevheniy Kahanovych   \n",
              "131888  Ukraine International      NaN            Helen Lee   \n",
              "131890  Ukraine International      NaN     Andriy Yesypenko   \n",
              "131892  Ukraine International      NaN    Volodya Bilotkach   \n",
              "131894  Ukraine International      NaN      Kasper Hettinga   \n",
              "\n",
              "               review_date                                    customer_review  \\\n",
              "1             8th May 2019  âœ… Trip Verified | London to Izmir via Istanb...   \n",
              "3             7th May 2019  âœ… Trip Verified | Istanbul to Bucharest. We ...   \n",
              "5             7th May 2019  âœ… Trip Verified | Rome to Prishtina via Ista...   \n",
              "7             6th May 2019  âœ… Trip Verified | Flew on Turkish Airlines I...   \n",
              "9             6th May 2019  âœ… Trip Verified | Mumbai to Dublin via Istan...   \n",
              "...                    ...                                                ...   \n",
              "131886   21st January 2007  Two domestic flights between Kiev and Lviv las...   \n",
              "131888  15th December 2006  I had a good flight from London to Kiev with U...   \n",
              "131890       19th May 2006  Kiev - London (Gatwick) in business class (in ...   \n",
              "131892     29th April 2006  Several flights - KBP to AMS (3 times one way)...   \n",
              "131894  10th February 2006  KBP-AMS with UIA. Although it was a relatively...   \n",
              "\n",
              "       aircraft  traveller_type          cabin  \\\n",
              "1           NaN        Business  Economy Class   \n",
              "3           NaN  Family Leisure  Economy Class   \n",
              "5           NaN        Business  Economy Class   \n",
              "7          A330    Solo Leisure  Economy Class   \n",
              "9           NaN    Solo Leisure  Economy Class   \n",
              "...         ...             ...            ...   \n",
              "131886      NaN             NaN            NaN   \n",
              "131888      NaN             NaN            NaN   \n",
              "131890      NaN             NaN            NaN   \n",
              "131892      NaN             NaN            NaN   \n",
              "131894      NaN             NaN            NaN   \n",
              "\n",
              "                                 route           date_flown  seat_comfort  \\\n",
              "1         London to Izmir via Istanbul  2019-05-01 00:00:00           4.0   \n",
              "3                Istanbul to Bucharest  2019-05-01 00:00:00           4.0   \n",
              "5       Rome to Prishtina via Istanbul  2019-05-01 00:00:00           1.0   \n",
              "7         Washington Dulles to Karachi           April 2019           4.0   \n",
              "9        Mumbai to Dublin via Istanbul  2019-05-01 00:00:00           1.0   \n",
              "...                                ...                  ...           ...   \n",
              "131886                             NaN                  NaN           NaN   \n",
              "131888                             NaN                  NaN           NaN   \n",
              "131890                             NaN                  NaN           NaN   \n",
              "131892                             NaN                  NaN           NaN   \n",
              "131894                             NaN                  NaN           NaN   \n",
              "\n",
              "        cabin_service  food_bev  entertainment  ground_service  \\\n",
              "1                 5.0       4.0            4.0             2.0   \n",
              "3                 1.0       1.0            1.0             1.0   \n",
              "5                 4.0       1.0            3.0             1.0   \n",
              "7                 5.0       5.0            5.0             5.0   \n",
              "9                 1.0       1.0            1.0             1.0   \n",
              "...               ...       ...            ...             ...   \n",
              "131886            NaN       NaN            NaN             NaN   \n",
              "131888            NaN       NaN            NaN             NaN   \n",
              "131890            NaN       NaN            NaN             NaN   \n",
              "131892            NaN       NaN            NaN             NaN   \n",
              "131894            NaN       NaN            NaN             NaN   \n",
              "\n",
              "        value_for_money recommended  \n",
              "1                   4.0         yes  \n",
              "3                   1.0          no  \n",
              "5                   2.0          no  \n",
              "7                   5.0         yes  \n",
              "9                   1.0          no  \n",
              "...                 ...         ...  \n",
              "131886              NaN          no  \n",
              "131888              NaN          no  \n",
              "131890              NaN          no  \n",
              "131892              NaN          no  \n",
              "131894              NaN          no  \n",
              "\n",
              "[61183 rows x 17 columns]"
            ],
            "text/html": [
              "\n",
              "  <div id=\"df-3d8d097f-3820-4c26-92e9-712aaa7c1bde\">\n",
              "    <div class=\"colab-df-container\">\n",
              "      <div>\n",
              "<style scoped>\n",
              "    .dataframe tbody tr th:only-of-type {\n",
              "        vertical-align: middle;\n",
              "    }\n",
              "\n",
              "    .dataframe tbody tr th {\n",
              "        vertical-align: top;\n",
              "    }\n",
              "\n",
              "    .dataframe thead th {\n",
              "        text-align: right;\n",
              "    }\n",
              "</style>\n",
              "<table border=\"1\" class=\"dataframe\">\n",
              "  <thead>\n",
              "    <tr style=\"text-align: right;\">\n",
              "      <th></th>\n",
              "      <th>airline</th>\n",
              "      <th>overall</th>\n",
              "      <th>author</th>\n",
              "      <th>review_date</th>\n",
              "      <th>customer_review</th>\n",
              "      <th>aircraft</th>\n",
              "      <th>traveller_type</th>\n",
              "      <th>cabin</th>\n",
              "      <th>route</th>\n",
              "      <th>date_flown</th>\n",
              "      <th>seat_comfort</th>\n",
              "      <th>cabin_service</th>\n",
              "      <th>food_bev</th>\n",
              "      <th>entertainment</th>\n",
              "      <th>ground_service</th>\n",
              "      <th>value_for_money</th>\n",
              "      <th>recommended</th>\n",
              "    </tr>\n",
              "  </thead>\n",
              "  <tbody>\n",
              "    <tr>\n",
              "      <th>1</th>\n",
              "      <td>Turkish Airlines</td>\n",
              "      <td>7.0</td>\n",
              "      <td>Christopher Hackley</td>\n",
              "      <td>8th May 2019</td>\n",
              "      <td>âœ… Trip Verified | London to Izmir via Istanb...</td>\n",
              "      <td>NaN</td>\n",
              "      <td>Business</td>\n",
              "      <td>Economy Class</td>\n",
              "      <td>London to Izmir via Istanbul</td>\n",
              "      <td>2019-05-01 00:00:00</td>\n",
              "      <td>4.0</td>\n",
              "      <td>5.0</td>\n",
              "      <td>4.0</td>\n",
              "      <td>4.0</td>\n",
              "      <td>2.0</td>\n",
              "      <td>4.0</td>\n",
              "      <td>yes</td>\n",
              "    </tr>\n",
              "    <tr>\n",
              "      <th>3</th>\n",
              "      <td>Turkish Airlines</td>\n",
              "      <td>2.0</td>\n",
              "      <td>Adriana Pisoi</td>\n",
              "      <td>7th May 2019</td>\n",
              "      <td>âœ… Trip Verified | Istanbul to Bucharest. We ...</td>\n",
              "      <td>NaN</td>\n",
              "      <td>Family Leisure</td>\n",
              "      <td>Economy Class</td>\n",
              "      <td>Istanbul to Bucharest</td>\n",
              "      <td>2019-05-01 00:00:00</td>\n",
              "      <td>4.0</td>\n",
              "      <td>1.0</td>\n",
              "      <td>1.0</td>\n",
              "      <td>1.0</td>\n",
              "      <td>1.0</td>\n",
              "      <td>1.0</td>\n",
              "      <td>no</td>\n",
              "    </tr>\n",
              "    <tr>\n",
              "      <th>5</th>\n",
              "      <td>Turkish Airlines</td>\n",
              "      <td>3.0</td>\n",
              "      <td>M Galerko</td>\n",
              "      <td>7th May 2019</td>\n",
              "      <td>âœ… Trip Verified | Rome to Prishtina via Ista...</td>\n",
              "      <td>NaN</td>\n",
              "      <td>Business</td>\n",
              "      <td>Economy Class</td>\n",
              "      <td>Rome to Prishtina via Istanbul</td>\n",
              "      <td>2019-05-01 00:00:00</td>\n",
              "      <td>1.0</td>\n",
              "      <td>4.0</td>\n",
              "      <td>1.0</td>\n",
              "      <td>3.0</td>\n",
              "      <td>1.0</td>\n",
              "      <td>2.0</td>\n",
              "      <td>no</td>\n",
              "    </tr>\n",
              "    <tr>\n",
              "      <th>7</th>\n",
              "      <td>Turkish Airlines</td>\n",
              "      <td>10.0</td>\n",
              "      <td>Zeshan Shah</td>\n",
              "      <td>6th May 2019</td>\n",
              "      <td>âœ… Trip Verified | Flew on Turkish Airlines I...</td>\n",
              "      <td>A330</td>\n",
              "      <td>Solo Leisure</td>\n",
              "      <td>Economy Class</td>\n",
              "      <td>Washington Dulles to Karachi</td>\n",
              "      <td>April 2019</td>\n",
              "      <td>4.0</td>\n",
              "      <td>5.0</td>\n",
              "      <td>5.0</td>\n",
              "      <td>5.0</td>\n",
              "      <td>5.0</td>\n",
              "      <td>5.0</td>\n",
              "      <td>yes</td>\n",
              "    </tr>\n",
              "    <tr>\n",
              "      <th>9</th>\n",
              "      <td>Turkish Airlines</td>\n",
              "      <td>1.0</td>\n",
              "      <td>Pooja Jain</td>\n",
              "      <td>6th May 2019</td>\n",
              "      <td>âœ… Trip Verified | Mumbai to Dublin via Istan...</td>\n",
              "      <td>NaN</td>\n",
              "      <td>Solo Leisure</td>\n",
              "      <td>Economy Class</td>\n",
              "      <td>Mumbai to Dublin via Istanbul</td>\n",
              "      <td>2019-05-01 00:00:00</td>\n",
              "      <td>1.0</td>\n",
              "      <td>1.0</td>\n",
              "      <td>1.0</td>\n",
              "      <td>1.0</td>\n",
              "      <td>1.0</td>\n",
              "      <td>1.0</td>\n",
              "      <td>no</td>\n",
              "    </tr>\n",
              "    <tr>\n",
              "      <th>...</th>\n",
              "      <td>...</td>\n",
              "      <td>...</td>\n",
              "      <td>...</td>\n",
              "      <td>...</td>\n",
              "      <td>...</td>\n",
              "      <td>...</td>\n",
              "      <td>...</td>\n",
              "      <td>...</td>\n",
              "      <td>...</td>\n",
              "      <td>...</td>\n",
              "      <td>...</td>\n",
              "      <td>...</td>\n",
              "      <td>...</td>\n",
              "      <td>...</td>\n",
              "      <td>...</td>\n",
              "      <td>...</td>\n",
              "      <td>...</td>\n",
              "    </tr>\n",
              "    <tr>\n",
              "      <th>131886</th>\n",
              "      <td>Ukraine International</td>\n",
              "      <td>NaN</td>\n",
              "      <td>Yevheniy Kahanovych</td>\n",
              "      <td>21st January 2007</td>\n",
              "      <td>Two domestic flights between Kiev and Lviv las...</td>\n",
              "      <td>NaN</td>\n",
              "      <td>NaN</td>\n",
              "      <td>NaN</td>\n",
              "      <td>NaN</td>\n",
              "      <td>NaN</td>\n",
              "      <td>NaN</td>\n",
              "      <td>NaN</td>\n",
              "      <td>NaN</td>\n",
              "      <td>NaN</td>\n",
              "      <td>NaN</td>\n",
              "      <td>NaN</td>\n",
              "      <td>no</td>\n",
              "    </tr>\n",
              "    <tr>\n",
              "      <th>131888</th>\n",
              "      <td>Ukraine International</td>\n",
              "      <td>NaN</td>\n",
              "      <td>Helen Lee</td>\n",
              "      <td>15th December 2006</td>\n",
              "      <td>I had a good flight from London to Kiev with U...</td>\n",
              "      <td>NaN</td>\n",
              "      <td>NaN</td>\n",
              "      <td>NaN</td>\n",
              "      <td>NaN</td>\n",
              "      <td>NaN</td>\n",
              "      <td>NaN</td>\n",
              "      <td>NaN</td>\n",
              "      <td>NaN</td>\n",
              "      <td>NaN</td>\n",
              "      <td>NaN</td>\n",
              "      <td>NaN</td>\n",
              "      <td>no</td>\n",
              "    </tr>\n",
              "    <tr>\n",
              "      <th>131890</th>\n",
              "      <td>Ukraine International</td>\n",
              "      <td>NaN</td>\n",
              "      <td>Andriy Yesypenko</td>\n",
              "      <td>19th May 2006</td>\n",
              "      <td>Kiev - London (Gatwick) in business class (in ...</td>\n",
              "      <td>NaN</td>\n",
              "      <td>NaN</td>\n",
              "      <td>NaN</td>\n",
              "      <td>NaN</td>\n",
              "      <td>NaN</td>\n",
              "      <td>NaN</td>\n",
              "      <td>NaN</td>\n",
              "      <td>NaN</td>\n",
              "      <td>NaN</td>\n",
              "      <td>NaN</td>\n",
              "      <td>NaN</td>\n",
              "      <td>no</td>\n",
              "    </tr>\n",
              "    <tr>\n",
              "      <th>131892</th>\n",
              "      <td>Ukraine International</td>\n",
              "      <td>NaN</td>\n",
              "      <td>Volodya Bilotkach</td>\n",
              "      <td>29th April 2006</td>\n",
              "      <td>Several flights - KBP to AMS (3 times one way)...</td>\n",
              "      <td>NaN</td>\n",
              "      <td>NaN</td>\n",
              "      <td>NaN</td>\n",
              "      <td>NaN</td>\n",
              "      <td>NaN</td>\n",
              "      <td>NaN</td>\n",
              "      <td>NaN</td>\n",
              "      <td>NaN</td>\n",
              "      <td>NaN</td>\n",
              "      <td>NaN</td>\n",
              "      <td>NaN</td>\n",
              "      <td>no</td>\n",
              "    </tr>\n",
              "    <tr>\n",
              "      <th>131894</th>\n",
              "      <td>Ukraine International</td>\n",
              "      <td>NaN</td>\n",
              "      <td>Kasper Hettinga</td>\n",
              "      <td>10th February 2006</td>\n",
              "      <td>KBP-AMS with UIA. Although it was a relatively...</td>\n",
              "      <td>NaN</td>\n",
              "      <td>NaN</td>\n",
              "      <td>NaN</td>\n",
              "      <td>NaN</td>\n",
              "      <td>NaN</td>\n",
              "      <td>NaN</td>\n",
              "      <td>NaN</td>\n",
              "      <td>NaN</td>\n",
              "      <td>NaN</td>\n",
              "      <td>NaN</td>\n",
              "      <td>NaN</td>\n",
              "      <td>no</td>\n",
              "    </tr>\n",
              "  </tbody>\n",
              "</table>\n",
              "<p>61183 rows × 17 columns</p>\n",
              "</div>\n",
              "      <button class=\"colab-df-convert\" onclick=\"convertToInteractive('df-3d8d097f-3820-4c26-92e9-712aaa7c1bde')\"\n",
              "              title=\"Convert this dataframe to an interactive table.\"\n",
              "              style=\"display:none;\">\n",
              "        \n",
              "  <svg xmlns=\"http://www.w3.org/2000/svg\" height=\"24px\"viewBox=\"0 0 24 24\"\n",
              "       width=\"24px\">\n",
              "    <path d=\"M0 0h24v24H0V0z\" fill=\"none\"/>\n",
              "    <path d=\"M18.56 5.44l.94 2.06.94-2.06 2.06-.94-2.06-.94-.94-2.06-.94 2.06-2.06.94zm-11 1L8.5 8.5l.94-2.06 2.06-.94-2.06-.94L8.5 2.5l-.94 2.06-2.06.94zm10 10l.94 2.06.94-2.06 2.06-.94-2.06-.94-.94-2.06-.94 2.06-2.06.94z\"/><path d=\"M17.41 7.96l-1.37-1.37c-.4-.4-.92-.59-1.43-.59-.52 0-1.04.2-1.43.59L10.3 9.45l-7.72 7.72c-.78.78-.78 2.05 0 2.83L4 21.41c.39.39.9.59 1.41.59.51 0 1.02-.2 1.41-.59l7.78-7.78 2.81-2.81c.8-.78.8-2.07 0-2.86zM5.41 20L4 18.59l7.72-7.72 1.47 1.35L5.41 20z\"/>\n",
              "  </svg>\n",
              "      </button>\n",
              "      \n",
              "  <style>\n",
              "    .colab-df-container {\n",
              "      display:flex;\n",
              "      flex-wrap:wrap;\n",
              "      gap: 12px;\n",
              "    }\n",
              "\n",
              "    .colab-df-convert {\n",
              "      background-color: #E8F0FE;\n",
              "      border: none;\n",
              "      border-radius: 50%;\n",
              "      cursor: pointer;\n",
              "      display: none;\n",
              "      fill: #1967D2;\n",
              "      height: 32px;\n",
              "      padding: 0 0 0 0;\n",
              "      width: 32px;\n",
              "    }\n",
              "\n",
              "    .colab-df-convert:hover {\n",
              "      background-color: #E2EBFA;\n",
              "      box-shadow: 0px 1px 2px rgba(60, 64, 67, 0.3), 0px 1px 3px 1px rgba(60, 64, 67, 0.15);\n",
              "      fill: #174EA6;\n",
              "    }\n",
              "\n",
              "    [theme=dark] .colab-df-convert {\n",
              "      background-color: #3B4455;\n",
              "      fill: #D2E3FC;\n",
              "    }\n",
              "\n",
              "    [theme=dark] .colab-df-convert:hover {\n",
              "      background-color: #434B5C;\n",
              "      box-shadow: 0px 1px 3px 1px rgba(0, 0, 0, 0.15);\n",
              "      filter: drop-shadow(0px 1px 2px rgba(0, 0, 0, 0.3));\n",
              "      fill: #FFFFFF;\n",
              "    }\n",
              "  </style>\n",
              "\n",
              "      <script>\n",
              "        const buttonEl =\n",
              "          document.querySelector('#df-3d8d097f-3820-4c26-92e9-712aaa7c1bde button.colab-df-convert');\n",
              "        buttonEl.style.display =\n",
              "          google.colab.kernel.accessAllowed ? 'block' : 'none';\n",
              "\n",
              "        async function convertToInteractive(key) {\n",
              "          const element = document.querySelector('#df-3d8d097f-3820-4c26-92e9-712aaa7c1bde');\n",
              "          const dataTable =\n",
              "            await google.colab.kernel.invokeFunction('convertToInteractive',\n",
              "                                                     [key], {});\n",
              "          if (!dataTable) return;\n",
              "\n",
              "          const docLinkHtml = 'Like what you see? Visit the ' +\n",
              "            '<a target=\"_blank\" href=https://colab.research.google.com/notebooks/data_table.ipynb>data table notebook</a>'\n",
              "            + ' to learn more about interactive tables.';\n",
              "          element.innerHTML = '';\n",
              "          dataTable['output_type'] = 'display_data';\n",
              "          await google.colab.output.renderOutput(dataTable, element);\n",
              "          const docLink = document.createElement('div');\n",
              "          docLink.innerHTML = docLinkHtml;\n",
              "          element.appendChild(docLink);\n",
              "        }\n",
              "      </script>\n",
              "    </div>\n",
              "  </div>\n",
              "  "
            ]
          },
          "metadata": {},
          "execution_count": 11
        }
      ]
    },
    {
      "cell_type": "code",
      "source": [
        "df.isnull().sum()"
      ],
      "metadata": {
        "colab": {
          "base_uri": "https://localhost:8080/"
        },
        "id": "N48-d51HKg9p",
        "outputId": "ff19fcea-8323-41c4-ac75-52ac7d9dee61"
      },
      "execution_count": 12,
      "outputs": [
        {
          "output_type": "execute_result",
          "data": {
            "text/plain": [
              "airline                0\n",
              "overall             1782\n",
              "author                 0\n",
              "review_date            0\n",
              "customer_review        0\n",
              "aircraft           42695\n",
              "traveller_type     23643\n",
              "cabin               2478\n",
              "route              23670\n",
              "date_flown         23749\n",
              "seat_comfort        4972\n",
              "cabin_service       4943\n",
              "food_bev           12842\n",
              "entertainment      20953\n",
              "ground_service     24014\n",
              "value_for_money     1856\n",
              "recommended         1422\n",
              "dtype: int64"
            ]
          },
          "metadata": {},
          "execution_count": 12
        }
      ]
    },
    {
      "cell_type": "code",
      "source": [
        "#pie chart to get percentage of class of passenger in cabin\n",
        "sns.set_palette('gist_ncar')\n",
        "df['cabin'].value_counts().plot(kind='pie',autopct='%1.0f%%',figsize=(15,8))"
      ],
      "metadata": {
        "colab": {
          "base_uri": "https://localhost:8080/",
          "height": 483
        },
        "id": "aIIzvvMDKl8c",
        "outputId": "935cc276-5e9e-41c5-e641-df0de4fff79f"
      },
      "execution_count": 13,
      "outputs": [
        {
          "output_type": "execute_result",
          "data": {
            "text/plain": [
              "<matplotlib.axes._subplots.AxesSubplot at 0x7fe9e556d390>"
            ]
          },
          "metadata": {},
          "execution_count": 13
        },
        {
          "output_type": "display_data",
          "data": {
            "text/plain": [
              "<Figure size 1080x576 with 1 Axes>"
            ],
            "image/png": "[encoded data removed]"
          },
          "metadata": {}
        }
      ]
    },
    {
      "cell_type": "markdown",
      "source": [
        "* From this we can see economy Class is having a largest percentage of overall share with 77%. This indicate that people travel most frequently on economic class followed by Business class then Premium class and small percentage of people fly on first class. \n",
        "\n"
      ],
      "metadata": {
        "id": "KLhNsYgWKtSU"
      }
    },
    {
      "cell_type": "code",
      "source": [
        "# Visualize the top 6 most frequently used airlines\n",
        "sns.set_palette('gist_ncar')\n",
        "plt.figure(figsize=(10,5))\n",
        "df['airline'].value_counts()[0:6].plot(kind='bar',figsize=(10,5))"
      ],
      "metadata": {
        "colab": {
          "base_uri": "https://localhost:8080/",
          "height": 447
        },
        "id": "vU0hT4JgKz5-",
        "outputId": "2053cc3e-3b1a-480b-9dc4-3f578c7edef6"
      },
      "execution_count": 14,
      "outputs": [
        {
          "output_type": "execute_result",
          "data": {
            "text/plain": [
              "<matplotlib.axes._subplots.AxesSubplot at 0x7fe9e5759a90>"
            ]
          },
          "metadata": {},
          "execution_count": 14
        },
        {
          "output_type": "display_data",
          "data": {
            "text/plain": [
              "<Figure size 720x360 with 1 Axes>"
            ],
            "image/png": "[encoded data removed]"
          },
          "metadata": {
            "needs_background": "light"
          }
        }
      ]
    },
    {
      "cell_type": "markdown",
      "source": [
        "* From the Bar graph we can conclude that Spirit Airways is the most frequently used airlines with a total count of around 2800 according to the dataset given"
      ],
      "metadata": {
        "id": "Qhc685o6K4RV"
      }
    },
    {
      "cell_type": "code",
      "source": [
        "#using bar plot to get most frequent aircraft\n",
        "sns.set_palette('gist_ncar')\n",
        "plt.figure(figsize=(10,5))\n",
        "df['aircraft'].value_counts()[0:10].plot(kind='bar',figsize=(10,5))"
      ],
      "metadata": {
        "colab": {
          "base_uri": "https://localhost:8080/",
          "height": 419
        },
        "id": "AAVv40mvK3ts",
        "outputId": "daf48342-bbe8-404d-c9c6-6e3e796a2124"
      },
      "execution_count": 15,
      "outputs": [
        {
          "output_type": "execute_result",
          "data": {
            "text/plain": [
              "<matplotlib.axes._subplots.AxesSubplot at 0x7fe9e5ed6890>"
            ]
          },
          "metadata": {},
          "execution_count": 15
        },
        {
          "output_type": "display_data",
          "data": {
            "text/plain": [
              "<Figure size 720x360 with 1 Axes>"
            ],
            "image/png": "[encoded data removed]"
          },
          "metadata": {
            "needs_background": "light"
          }
        }
      ]
    },
    {
      "cell_type": "markdown",
      "source": [
        "* From this bar graph we can see that aircraft A320 has travelled most frequently and also been used by most of the people.\n",
        "\n"
      ],
      "metadata": {
        "id": "bEhqV148LNFB"
      }
    },
    {
      "cell_type": "code",
      "source": [
        "#using bar plot to get traveller type class with their count\n",
        "plt.figure(figsize=(10,5))\n",
        "df['traveller_type'].value_counts().plot(kind='bar', color ='b')"
      ],
      "metadata": {
        "colab": {
          "base_uri": "https://localhost:8080/",
          "height": 400
        },
        "id": "AJdg-ETWLJVt",
        "outputId": "0ed0b90b-1d89-4266-8545-7ed3d134af01"
      },
      "execution_count": 16,
      "outputs": [
        {
          "output_type": "execute_result",
          "data": {
            "text/plain": [
              "<matplotlib.axes._subplots.AxesSubplot at 0x7fe9e5320890>"
            ]
          },
          "metadata": {},
          "execution_count": 16
        },
        {
          "output_type": "display_data",
          "data": {
            "text/plain": [
              "<Figure size 720x360 with 1 Axes>"
            ],
            "image/png": "[encoded data removed]"
          },
          "metadata": {
            "needs_background": "light"
          }
        }
      ]
    },
    {
      "cell_type": "markdown",
      "source": [
        "* We can see there are 4 classes present in Traveller type feature. Also we can notice that Solo Leisure has highest value count. From this we can conclude that most of people who travel through airline travels in solo. Followed by College then Family. Very small percentage of people prefer flying for business."
      ],
      "metadata": {
        "id": "dd5H_gbfLWWN"
      }
    },
    {
      "cell_type": "code",
      "source": [
        "#Plotting bar graph to identify classes of dependent variable\n",
        "plt.figure(figsize=(10,5))\n",
        "df['recommended'].value_counts()[0:10].plot(kind='bar', color ='b')"
      ],
      "metadata": {
        "colab": {
          "base_uri": "https://localhost:8080/",
          "height": 344
        },
        "id": "C8hMPoXkLcMM",
        "outputId": "06d1613c-050c-4002-9d92-5d46d3a66846"
      },
      "execution_count": 17,
      "outputs": [
        {
          "output_type": "execute_result",
          "data": {
            "text/plain": [
              "<matplotlib.axes._subplots.AxesSubplot at 0x7fe9e53201d0>"
            ]
          },
          "metadata": {},
          "execution_count": 17
        },
        {
          "output_type": "display_data",
          "data": {
            "text/plain": [
              "<Figure size 720x360 with 1 Axes>"
            ],
            "image/png": "[encoded data removed]"
          },
          "metadata": {
            "needs_background": "light"
          }
        }
      ]
    },
    {
      "cell_type": "markdown",
      "source": [
        "* Here we can see that Dependent feature recommended has balanced data in its classes Yes and No."
      ],
      "metadata": {
        "id": "Oazc8c-GMkXn"
      }
    },
    {
      "cell_type": "code",
      "source": [
        "# Changing the 'date_flown' column from str to datetime type\n",
        "df['date_flown'] = df['date_flown'].apply(lambda x:pd.to_datetime(x))"
      ],
      "metadata": {
        "id": "zrlUrK17MV5k"
      },
      "execution_count": 18,
      "outputs": []
    },
    {
      "cell_type": "code",
      "source": [
        "#creating new feature to store month\n",
        "\n",
        "df['travel_month'] = df['date_flown'].dt.month"
      ],
      "metadata": {
        "id": "L_tQtofHMoya"
      },
      "execution_count": 19,
      "outputs": []
    },
    {
      "cell_type": "code",
      "source": [
        "# Get countplot of 'travel_month' feature\n",
        "plt.figure(figsize=(15,8))\n",
        "sns.countplot(df['travel_month'], color ='b')"
      ],
      "metadata": {
        "colab": {
          "base_uri": "https://localhost:8080/",
          "height": 515
        },
        "id": "X6pFMWbwMsEE",
        "outputId": "834fd66c-d930-4a1a-c8fe-4d2d263b1a3a"
      },
      "execution_count": 20,
      "outputs": [
        {
          "output_type": "execute_result",
          "data": {
            "text/plain": [
              "<matplotlib.axes._subplots.AxesSubplot at 0x7fe9e51ddbd0>"
            ]
          },
          "metadata": {},
          "execution_count": 20
        },
        {
          "output_type": "display_data",
          "data": {
            "text/plain": [
              "<Figure size 1080x576 with 1 Axes>"
            ],
            "image/png": "[encoded data removed]"
          },
          "metadata": {
            "needs_background": "light"
          }
        }
      ]
    },
    {
      "cell_type": "markdown",
      "source": [
        "* Here we can see that people flown most fequently in the month of July and least frequently in month of february."
      ],
      "metadata": {
        "id": "EZr_eRSEMviU"
      }
    },
    {
      "cell_type": "code",
      "source": [
        "df.info()"
      ],
      "metadata": {
        "colab": {
          "base_uri": "https://localhost:8080/"
        },
        "id": "2nFxmDKGMzEN",
        "outputId": "12d61207-0c32-448b-b5d8-30e055513fbe"
      },
      "execution_count": 21,
      "outputs": [
        {
          "output_type": "stream",
          "name": "stdout",
          "text": [
            "<class 'pandas.core.frame.DataFrame'>\n",
            "Int64Index: 61183 entries, 1 to 131894\n",
            "Data columns (total 18 columns):\n",
            " #   Column           Non-Null Count  Dtype         \n",
            "---  ------           --------------  -----         \n",
            " 0   airline          61183 non-null  object        \n",
            " 1   overall          59401 non-null  float64       \n",
            " 2   author           61183 non-null  object        \n",
            " 3   review_date      61183 non-null  object        \n",
            " 4   customer_review  61183 non-null  object        \n",
            " 5   aircraft         18488 non-null  object        \n",
            " 6   traveller_type   37540 non-null  object        \n",
            " 7   cabin            58705 non-null  object        \n",
            " 8   route            37513 non-null  object        \n",
            " 9   date_flown       37434 non-null  datetime64[ns]\n",
            " 10  seat_comfort     56211 non-null  float64       \n",
            " 11  cabin_service    56240 non-null  float64       \n",
            " 12  food_bev         48341 non-null  float64       \n",
            " 13  entertainment    40230 non-null  float64       \n",
            " 14  ground_service   37169 non-null  float64       \n",
            " 15  value_for_money  59327 non-null  float64       \n",
            " 16  recommended      59761 non-null  object        \n",
            " 17  travel_month     37434 non-null  float64       \n",
            "dtypes: datetime64[ns](1), float64(8), object(9)\n",
            "memory usage: 10.9+ MB\n"
          ]
        }
      ]
    },
    {
      "cell_type": "markdown",
      "source": [
        "# Feature descriptions briefly as follows:\n",
        "* airline: Name of the airline in str fromat\n",
        "\n",
        "* overall: Overall point is given to the trip between 1 to 10 in float format.\n",
        "\n",
        "* author: Author of the trip in str format\n",
        "* review date: Date of the Review customer review: Review of the customers in free text format in str need to be converted into DateTime Format\n",
        "* aircraft: Type of the aircraft in str format\n",
        "\n",
        "* travellertype: Type of traveler (e.g. business, leisure) consist of four class in str format\n",
        "\n",
        "* cabin: Cabin at the flight date flown: Flight date in str format consist of 4 class.\n",
        "\n",
        "* seatcomfort: Rated between 1-5 in float format\n",
        "\n",
        "* cabin service: Rated between 1-5 float format\n",
        "\n",
        "* foodbev: Rated between 1-5 entertainment: Rated between 1-5 in float format\n",
        "\n",
        "* groundservice: Rated between 1-5 in float format\n",
        "\n",
        "* valueformoney: Rated between 1-5 in float format"
      ],
      "metadata": {
        "id": "ZCx3VZhWNCP8"
      }
    }
  ],
  "metadata": {
    "colab": {
      "collapsed_sections": [],
      "name": "Airline referral capstone project.ipynb",
      "provenance": [],
      "include_colab_link": true
    },
    "kernelspec": {
      "display_name": "Python 3",
      "name": "python3"
    },
    "language_info": {
      "name": "python"
    }
  },
  "nbformat": 4,
  "nbformat_minor": 0
}